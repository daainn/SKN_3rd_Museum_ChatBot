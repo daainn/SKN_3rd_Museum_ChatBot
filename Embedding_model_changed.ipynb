{
 "cells": [
  {
   "cell_type": "markdown",
   "metadata": {},
   "source": [
    "# Embedding Model 변경 (intfloat/multilingual-e5-large)"
   ]
  },
  {
   "cell_type": "code",
   "execution_count": null,
   "metadata": {},
   "outputs": [],
   "source": [
    "data_path = \"merged_museum_data_rag.csv\"",
    "df = pd.read_csv(data_path)\n",
    "\n",
    "# ✅ 문장 분할 함수 (간단한 마침표 기준 + 공백 제거)\n",
    "def split_sentences(text):\n",
    "    # 마침표, 느낌표, 물음표 기준으로 문장 분리 (뒤에 공백도 포함)\n",
    "    sentences = re.split(r'(?<=[.?!])\\s+', text.strip())\n",
    "    return [s for s in sentences if s]  # 빈 문자열 제거\n",
    "\n",
    "# ✅ 2️⃣ Title + Description을 문장 단위로 쪼개서 문서 생성\n",
    "documents = []\n",
    "for _, row in df.iterrows():\n",
    "    title = row[\"Title\"]\n",
    "    description = row[\"Description\"]\n",
    "    sentences = split_sentences(description)\n",
    "\n",
    "    for sentence in sentences:\n",
    "        documents.append({\n",
    "            \"text\": f\"{title} - {sentence}\",\n",
    "            \"metadata\": {\"title\": title}\n",
    "        })\n",
    "\n",
    "# ✅ 3️⃣ 임베딩 모델\n",
    "embedding_model = HuggingFaceEmbeddings(model_name=\"intfloat/multilingual-e5-large\")\n",
    "\n",
    "# ✅ 4️⃣ FAISS 벡터스토어 생성\n",
    "vectorstore = FAISS.from_texts(\n",
    "    [doc[\"text\"] for doc in documents],\n",
    "    embedding_model,\n",
    "    metadatas=[doc[\"metadata\"] for doc in documents]\n",
    ")\n",
    "\n",
    "# ✅ 5️⃣ 저장\n",
    "vectorstore.save_local(\"faiss_index\")\n",
    "print(\"✅ 문장 단위 벡터DB 생성 완료!\")"
   ]
  }
 ],
 "metadata": {
  "language_info": {
   "name": "python"
  }
 },
 "nbformat": 4,
 "nbformat_minor": 2
}
